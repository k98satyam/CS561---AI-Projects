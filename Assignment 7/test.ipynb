{
 "cells": [
  {
   "cell_type": "code",
   "execution_count": 1,
   "metadata": {},
   "outputs": [
    {
     "ename": "ModuleNotFoundError",
     "evalue": "No module named 'pandas'",
     "output_type": "error",
     "traceback": [
      "\u001b[1;31m---------------------------------------------------------------------------\u001b[0m",
      "\u001b[1;31mModuleNotFoundError\u001b[0m                       Traceback (most recent call last)",
      "Cell \u001b[1;32mIn[1], line 1\u001b[0m\n\u001b[1;32m----> 1\u001b[0m \u001b[39mimport\u001b[39;00m \u001b[39mpandas\u001b[39;00m \u001b[39mas\u001b[39;00m \u001b[39mpd\u001b[39;00m\n\u001b[0;32m      2\u001b[0m \u001b[39mimport\u001b[39;00m \u001b[39mnumpy\u001b[39;00m \u001b[39mas\u001b[39;00m \u001b[39mnp\u001b[39;00m\n\u001b[0;32m      3\u001b[0m \u001b[39mimport\u001b[39;00m \u001b[39mmatplotlib\u001b[39;00m\u001b[39m.\u001b[39;00m\u001b[39mpyplot\u001b[39;00m \u001b[39mas\u001b[39;00m \u001b[39mplt\u001b[39;00m\n",
      "\u001b[1;31mModuleNotFoundError\u001b[0m: No module named 'pandas'"
     ]
    }
   ],
   "source": [
    "import pandas as pd\n",
    "import numpy as np\n",
    "import matplotlib.pyplot as plt"
   ]
  },
  {
   "cell_type": "code",
   "execution_count": 30,
   "metadata": {},
   "outputs": [],
   "source": [
    "\n",
    "data = pd.read_csv('newspaper_data.tsv',sep='\\t')"
   ]
  },
  {
   "cell_type": "code",
   "execution_count": 3,
   "metadata": {},
   "outputs": [],
   "source": [
    "x = data['Daily'].values\n",
    "y = data['Sunday '].values"
   ]
  },
  {
   "cell_type": "code",
   "execution_count": 4,
   "metadata": {},
   "outputs": [
    {
     "data": {
      "text/plain": [
       "array([ 391.952,  516.981,  355.628,  238.555,  537.78 ,  733.775,\n",
       "        198.832,  252.624,  206.204,  231.177,  449.755,  288.571,\n",
       "        185.736, 1164.388,  444.581,  412.871,  272.28 ,  781.796,\n",
       "       1209.225,  825.512,  223.748,  354.843,  515.523,  220.465,\n",
       "        337.672,  197.12 ,  133.239,  374.009,  273.844,  570.364,\n",
       "        391.286,  201.86 ,  321.626,  838.902])"
      ]
     },
     "execution_count": 4,
     "metadata": {},
     "output_type": "execute_result"
    }
   ],
   "source": [
    "x"
   ]
  },
  {
   "cell_type": "code",
   "execution_count": 5,
   "metadata": {},
   "outputs": [
    {
     "data": {
      "text/plain": [
       "array([ 488.506,  798.298,  235.084,  299.451,  559.093, 1133.249,\n",
       "        348.744,  417.779,  344.522,  323.084,  620.752,  423.305,\n",
       "        202.614, 1531.527,  553.479,  685.975,  324.241,  983.24 ,\n",
       "       1762.015,  960.308,  284.611,  407.76 ,  982.663,  557.   ,\n",
       "        440.923,  268.06 ,  262.048,  432.502,  338.355,  704.322,\n",
       "        585.681,  267.781,  408.343, 1165.567])"
      ]
     },
     "execution_count": 5,
     "metadata": {},
     "output_type": "execute_result"
    }
   ],
   "source": [
    "y"
   ]
  },
  {
   "cell_type": "code",
   "execution_count": 6,
   "metadata": {},
   "outputs": [],
   "source": [
    "class LinearRegression:\n",
    "    def __init__(self):\n",
    "        self.w = 0\n",
    "        self.b = 0\n",
    "    \n",
    "    def update_weights(self,x,y):\n",
    "\n",
    "        return np.dot(x.T,y)/np.dot(x.T,x)\n",
    "\n",
    "    def fit(self,x,y):\n",
    "        self.w = self.update_weights(x,y)\n",
    "        self.b = np.mean(y)- self.w*np.mean(x)\n",
    "    \n",
    "    def predict(self,x):\n",
    "        return self.w*x + self.b\n",
    "\n",
    "\n",
    "def r2_score( y_true, y_pred):\n",
    "        '''\n",
    "            r2 = 1 - (rss/tss)\n",
    "            rss = sum_{i=0}^{n} (y_i - y_hat)^2\n",
    "            tss = sum_{i=0}^{n} (y_i - y_bar)^2\n",
    "        '''\n",
    "        y_values = y_true\n",
    "        y_average = np.average(y_values)\n",
    "\n",
    "        residual_sum_of_squares = 0\n",
    "        total_sum_of_squares = 0\n",
    "\n",
    "        for i in range(len(y_values)):\n",
    "            residual_sum_of_squares += (y_values[i] - y_pred[i])**2\n",
    "            total_sum_of_squares += (y_values[i] - y_average)**2\n",
    "\n",
    "        return 1 - (residual_sum_of_squares/total_sum_of_squares)"
   ]
  },
  {
   "cell_type": "code",
   "execution_count": 7,
   "metadata": {},
   "outputs": [],
   "source": [
    "linear_reg = LinearRegression()\n",
    "linear_reg.fit(x,y)"
   ]
  },
  {
   "cell_type": "code",
   "execution_count": 31,
   "metadata": {},
   "outputs": [
    {
     "data": {
      "text/html": [
       "<div>\n",
       "<style scoped>\n",
       "    .dataframe tbody tr th:only-of-type {\n",
       "        vertical-align: middle;\n",
       "    }\n",
       "\n",
       "    .dataframe tbody tr th {\n",
       "        vertical-align: top;\n",
       "    }\n",
       "\n",
       "    .dataframe thead th {\n",
       "        text-align: right;\n",
       "    }\n",
       "</style>\n",
       "<table border=\"1\" class=\"dataframe\">\n",
       "  <thead>\n",
       "    <tr style=\"text-align: right;\">\n",
       "      <th></th>\n",
       "      <th>SNo Newspaper   Daily</th>\n",
       "      <th>Unnamed: 1</th>\n",
       "      <th>Unnamed: 2</th>\n",
       "    </tr>\n",
       "  </thead>\n",
       "  <tbody>\n",
       "    <tr>\n",
       "      <th>0</th>\n",
       "      <td>0</td>\n",
       "      <td>Baltimore Sun</td>\n",
       "      <td>399.297</td>\n",
       "    </tr>\n",
       "    <tr>\n",
       "      <th>1</th>\n",
       "      <td>1</td>\n",
       "      <td>Boston Globe</td>\n",
       "      <td>526.642</td>\n",
       "    </tr>\n",
       "    <tr>\n",
       "      <th>2</th>\n",
       "      <td>2</td>\n",
       "      <td>Boston Herald</td>\n",
       "      <td>362.315</td>\n",
       "    </tr>\n",
       "    <tr>\n",
       "      <th>3</th>\n",
       "      <td>3</td>\n",
       "      <td>Charlotte Observer</td>\n",
       "      <td>243.016</td>\n",
       "    </tr>\n",
       "    <tr>\n",
       "      <th>4</th>\n",
       "      <td>4</td>\n",
       "      <td>Chicago Sun Times</td>\n",
       "      <td>547.688</td>\n",
       "    </tr>\n",
       "  </tbody>\n",
       "</table>\n",
       "</div>"
      ],
      "text/plain": [
       "   SNo Newspaper   Daily          Unnamed: 1  Unnamed: 2\n",
       "0                      0       Baltimore Sun     399.297\n",
       "1                      1        Boston Globe     526.642\n",
       "2                      2       Boston Herald     362.315\n",
       "3                      3  Charlotte Observer     243.016\n",
       "4                      4   Chicago Sun Times     547.688"
      ]
     },
     "execution_count": 31,
     "metadata": {},
     "output_type": "execute_result"
    }
   ],
   "source": [
    "data_test = pd.read_csv('newspaper_data_test.tsv',sep='\\t')\n",
    "x_test =data_test['Unnamed: 2'].values\n",
    "data_test.head()"
   ]
  },
  {
   "cell_type": "code",
   "execution_count": 32,
   "metadata": {},
   "outputs": [
    {
     "data": {
      "text/plain": [
       "array([ 399.297,  526.642,  362.315,  243.016,  547.688,  747.401,\n",
       "        202.617,  257.34 ,  209.993,  235.337,  457.687,  293.657,\n",
       "        188.955, 1184.007,  452.648,  420.362,  277.201,  795.607,\n",
       "       1231.58 ,  836.858,  227.097,  360.007,  523.01 ,  223.792,\n",
       "        342.585,  199.965,  135.057,  376.789,  275.84 ,  574.237,\n",
       "        394.103,  203.263,  322.517,  838.902])"
      ]
     },
     "execution_count": 32,
     "metadata": {},
     "output_type": "execute_result"
    }
   ],
   "source": [
    "x_test"
   ]
  },
  {
   "cell_type": "code",
   "execution_count": 33,
   "metadata": {},
   "outputs": [
    {
     "data": {
      "text/plain": [
       "0.9177823580111862"
      ]
     },
     "execution_count": 33,
     "metadata": {},
     "output_type": "execute_result"
    }
   ],
   "source": [
    "preds = linear_reg.predict(x)\n",
    "r2_score(y,preds)"
   ]
  },
  {
   "cell_type": "code",
   "execution_count": 34,
   "metadata": {},
   "outputs": [],
   "source": [
    "preds_test = linear_reg.predict(x_test)"
   ]
  },
  {
   "cell_type": "code",
   "execution_count": 41,
   "metadata": {},
   "outputs": [
    {
     "name": "stdout",
     "output_type": "stream",
     "text": [
      "Model Parameters\n",
      "Slope m = 1.3629997737529687\n",
      "Intercept b = 3.8006618569208968\n"
     ]
    }
   ],
   "source": [
    "print('Model Parameters')\n",
    "print(f'Slope m = {linear_reg.w}')\n",
    "print(f'Intercept b = {linear_reg.b}')"
   ]
  },
  {
   "cell_type": "code",
   "execution_count": 36,
   "metadata": {},
   "outputs": [
    {
     "name": "stdout",
     "output_type": "stream",
     "text": [
      "\n",
      "Companies to Exclude from Sunday Edition Circulation:\n",
      "Baltimore Sun\n",
      "Boston Globe\n",
      "Boston Herald\n",
      "Charlotte Observer\n",
      "Chicago Sun Times\n",
      "Chicago Tribune\n",
      "Cincinnati Enquirer\n",
      "Denver Post\n",
      "Des Moines Register\n",
      "Hartford Courant\n",
      "Houston Chronicle\n",
      "Kansas City Star\n",
      "Los Angeles Daily News\n",
      "Los Angeles Times\n",
      "Miami Herald\n",
      "Minneapolis Star Tribune\n",
      "New Orleans Times-Picayune\n",
      "New York Daily News\n",
      "New York Times\n",
      "Newsday\n",
      "Omaha World Herald\n",
      "Orange County Register\n",
      "Philadelphia Inquirer\n",
      "Pittsburgh Press\n",
      "Portland Oregonian\n",
      "Providence Journal-Bulletin\n",
      "Rochester Democrat & Chronicle\n",
      "Rocky Mountain News\n",
      "Sacramento Bee\n",
      "San Francisco Chronicle\n",
      "St. Louis Post-Dispatch\n",
      "St. Paul Pioneer Press\n",
      "Tampa Tribune\n",
      "Washington Post\n"
     ]
    }
   ],
   "source": [
    "companies_to_exclude = []\n",
    "for i, row in data_test.iterrows():\n",
    "    \n",
    "    if preds_test[i]>row['Unnamed: 2']+.3*row['Unnamed: 2']:\n",
    "        # print(row['Unnamed: 2']+.3*row['Unnamed: 2'])\n",
    "        # print(preds_test[i])\n",
    "        companies_to_exclude.append(row['Unnamed: 1'])\n",
    "        \n",
    "\n",
    "print(\"\\nCompanies to Exclude from Sunday Edition Circulation:\")\n",
    "for i in companies_to_exclude:\n",
    "    print(i)\n",
    "\n"
   ]
  },
  {
   "cell_type": "code",
   "execution_count": 37,
   "metadata": {},
   "outputs": [
    {
     "data": {
      "image/png": "[encoded data removed]",
      "text/plain": [
       "<Figure size 640x480 with 1 Axes>"
      ]
     },
     "metadata": {},
     "output_type": "display_data"
    }
   ],
   "source": [
    "# Plot the data and the predicted regression curve\n",
    "plt.scatter(x, y, label='Data Points')\n",
    "plt.plot(x_test, preds_test, color='red', linewidth=2, label='Regression Curve')\n",
    "plt.xlabel('Daily Circulation')\n",
    "plt.ylabel('Sunday circulation')\n",
    "plt.title('Linear Regression Analysis')\n",
    "plt.legend()\n",
    "plt.show()\n"
   ]
  },
  {
   "cell_type": "code",
   "execution_count": 39,
   "metadata": {},
   "outputs": [],
   "source": [
    "# def transpose_matrix(matrix):\n",
    "#     rows, cols = len(matrix), len(matrix[0])\n",
    "#     transposed = [[0] * rows for _ in range(cols)]\n",
    "\n",
    "#     for i in range(rows):\n",
    "#         for j in range(cols):\n",
    "#             transposed[j][i] = matrix[i][j]\n",
    "\n",
    "#     return transposed\n",
    "\n",
    "# # Example usage:\n",
    "# matrix = [[1, 2, 3, 4, 5, 6]]\n",
    "# transposed_matrix = transpose_matrix(matrix)\n",
    "# # for row in transposed_matrix:\n",
    "# #     print(row)\n"
   ]
  },
  {
   "cell_type": "code",
   "execution_count": 40,
   "metadata": {},
   "outputs": [],
   "source": [
    "# def dot_product(matrix1, matrix2):\n",
    "#     if len(matrix1[0]) != len(matrix2):\n",
    "#         raise ValueError(\"Number of columns in the first matrix must be equal to the number of rows in the second matrix.\")\n",
    "\n",
    "#     result = [[0] * len(matrix2[0]) for _ in range(len(matrix1))]\n",
    "\n",
    "#     for i in range(len(matrix1)):\n",
    "#         for j in range(len(matrix2[0])):\n",
    "#             for k in range(len(matrix2)):\n",
    "#                 result[i][j] += matrix1[i][k] * matrix2[k][j]\n",
    "\n",
    "#     return result\n",
    "\n",
    "# # Example usage:\n",
    "\n",
    "# result_matrix = dot_product(matrix, transposed_matrix)\n",
    "# # for row in result_matrix:\n",
    "# #     print(row)\n"
   ]
  }
 ],
 "metadata": {
  "kernelspec": {
   "display_name": "Python 3",
   "language": "python",
   "name": "python3"
  },
  "language_info": {
   "codemirror_mode": {
    "name": "ipython",
    "version": 3
   },
   "file_extension": ".py",
   "mimetype": "text/x-python",
   "name": "python",
   "nbconvert_exporter": "python",
   "pygments_lexer": "ipython3",
   "version": "3.10.5"
  },
  "orig_nbformat": 4
 },
 "nbformat": 4,
 "nbformat_minor": 2
}
