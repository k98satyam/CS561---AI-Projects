{
  "cells": [
    {
      "cell_type": "code",
      "execution_count": null,
      "metadata": {
        "id": "Rqr4L_NYsWvV"
      },
      "outputs": [],
      "source": [
        "import pandas as pd\n",
        "import numpy as np\n",
        "import matplotlib.pyplot as plt"
      ]
    },
    {
      "cell_type": "code",
      "execution_count": null,
      "metadata": {
        "id": "5BFgxxDGsWvX"
      },
      "outputs": [],
      "source": [
        "data = pd.read_csv('newspaper_data.tsv',sep='\\t')"
      ]
    },
    {
      "cell_type": "code",
      "execution_count": null,
      "metadata": {
        "id": "GcLbMbyUsWvX"
      },
      "outputs": [],
      "source": [
        "x = data['Daily'].values\n",
        "y = data['Sunday '].values"
      ]
    },
    {
      "cell_type": "code",
      "execution_count": null,
      "metadata": {
        "colab": {
          "base_uri": "https://localhost:8080/"
        },
        "id": "rlkCHysJsWvY",
        "outputId": "e336324c-b357-4016-9734-bd6baca9e604"
      },
      "outputs": [
        {
          "output_type": "execute_result",
          "data": {
            "text/plain": [
              "array([ 391.952,  516.981,  355.628,  238.555,  537.78 ,  733.775,\n",
              "        198.832,  252.624,  206.204,  231.177,  449.755,  288.571,\n",
              "        185.736, 1164.388,  444.581,  412.871,  272.28 ,  781.796,\n",
              "       1209.225,  825.512,  223.748,  354.843,  515.523,  220.465,\n",
              "        337.672,  197.12 ,  133.239,  374.009,  273.844,  570.364,\n",
              "        391.286,  201.86 ,  321.626,  838.902])"
            ]
          },
          "metadata": {},
          "execution_count": 8
        }
      ],
      "source": [
        "x"
      ]
    },
    {
      "cell_type": "code",
      "execution_count": null,
      "metadata": {
        "colab": {
          "base_uri": "https://localhost:8080/"
        },
        "id": "2FewuRGPsWvY",
        "outputId": "d6b9bebf-ff5f-4595-c03e-88369f3098d1"
      },
      "outputs": [
        {
          "output_type": "execute_result",
          "data": {
            "text/plain": [
              "array([ 488.506,  798.298,  235.084,  299.451,  559.093, 1133.249,\n",
              "        348.744,  417.779,  344.522,  323.084,  620.752,  423.305,\n",
              "        202.614, 1531.527,  553.479,  685.975,  324.241,  983.24 ,\n",
              "       1762.015,  960.308,  284.611,  407.76 ,  982.663,  557.   ,\n",
              "        440.923,  268.06 ,  262.048,  432.502,  338.355,  704.322,\n",
              "        585.681,  267.781,  408.343, 1165.567])"
            ]
          },
          "metadata": {},
          "execution_count": 9
        }
      ],
      "source": [
        "y"
      ]
    },
    {
      "cell_type": "code",
      "execution_count": null,
      "metadata": {
        "id": "WZCk-QJQsWvY"
      },
      "outputs": [],
      "source": [
        "# w = slope, b = intercept\n",
        "class LinearRegression:\n",
        "    def __init__(self):\n",
        "        self.w = 0\n",
        "        self.b = 0\n",
        "\n",
        "    def update_weights(self,x,y):\n",
        "        return np.dot(x.T,y)/np.dot(x.T,x)\n",
        "\n",
        "    def fit(self,x,y):\n",
        "        self.w = self.update_weights(x,y)\n",
        "        self.b = np.mean(y)- self.w*np.mean(x)\n",
        "\n",
        "    def predict(self,x):\n",
        "        return self.w*x + self.b"
      ]
    },
    {
      "cell_type": "code",
      "execution_count": null,
      "metadata": {
        "id": "lU8WbHVmsWvY"
      },
      "outputs": [],
      "source": [
        "linear_reg = LinearRegression()\n",
        "linear_reg.fit(x,y)"
      ]
    },
    {
      "cell_type": "code",
      "source": [
        "linear_reg.w"
      ],
      "metadata": {
        "colab": {
          "base_uri": "https://localhost:8080/"
        },
        "id": "OcMl70kGwBq7",
        "outputId": "06b30559-ea31-4bd8-af85-6efb89f7b8a6"
      },
      "execution_count": null,
      "outputs": [
        {
          "output_type": "execute_result",
          "data": {
            "text/plain": [
              "1.3629997737529689"
            ]
          },
          "metadata": {},
          "execution_count": 12
        }
      ]
    },
    {
      "cell_type": "code",
      "execution_count": null,
      "metadata": {
        "colab": {
          "base_uri": "https://localhost:8080/",
          "height": 206
        },
        "id": "94OAr9dTsWvZ",
        "outputId": "8225f3a9-2979-4b49-9de0-c519e9ad5dc4"
      },
      "outputs": [
        {
          "output_type": "execute_result",
          "data": {
            "text/plain": [
              "   Sno           Newspaper    Daily\n",
              "0    0       Baltimore Sun  399.297\n",
              "1    1        Boston Globe  526.642\n",
              "2    2       Boston Herald  362.315\n",
              "3    3  Charlotte Observer  243.016\n",
              "4    4   Chicago Sun Times  547.688"
            ],
            "text/html": [
              "\n",
              "  <div id=\"df-8e592cb4-cc67-4d20-9756-ad9bbed3d119\" class=\"colab-df-container\">\n",
              "    <div>\n",
              "<style scoped>\n",
              "    .dataframe tbody tr th:only-of-type {\n",
              "        vertical-align: middle;\n",
              "    }\n",
              "\n",
              "    .dataframe tbody tr th {\n",
              "        vertical-align: top;\n",
              "    }\n",
              "\n",
              "    .dataframe thead th {\n",
              "        text-align: right;\n",
              "    }\n",
              "</style>\n",
              "<table border=\"1\" class=\"dataframe\">\n",
              "  <thead>\n",
              "    <tr style=\"text-align: right;\">\n",
              "      <th></th>\n",
              "      <th>Sno</th>\n",
              "      <th>Newspaper</th>\n",
              "      <th>Daily</th>\n",
              "    </tr>\n",
              "  </thead>\n",
              "  <tbody>\n",
              "    <tr>\n",
              "      <th>0</th>\n",
              "      <td>0</td>\n",
              "      <td>Baltimore Sun</td>\n",
              "      <td>399.297</td>\n",
              "    </tr>\n",
              "    <tr>\n",
              "      <th>1</th>\n",
              "      <td>1</td>\n",
              "      <td>Boston Globe</td>\n",
              "      <td>526.642</td>\n",
              "    </tr>\n",
              "    <tr>\n",
              "      <th>2</th>\n",
              "      <td>2</td>\n",
              "      <td>Boston Herald</td>\n",
              "      <td>362.315</td>\n",
              "    </tr>\n",
              "    <tr>\n",
              "      <th>3</th>\n",
              "      <td>3</td>\n",
              "      <td>Charlotte Observer</td>\n",
              "      <td>243.016</td>\n",
              "    </tr>\n",
              "    <tr>\n",
              "      <th>4</th>\n",
              "      <td>4</td>\n",
              "      <td>Chicago Sun Times</td>\n",
              "      <td>547.688</td>\n",
              "    </tr>\n",
              "  </tbody>\n",
              "</table>\n",
              "</div>\n",
              "    <div class=\"colab-df-buttons\">\n",
              "\n",
              "  <div class=\"colab-df-container\">\n",
              "    <button class=\"colab-df-convert\" onclick=\"convertToInteractive('df-8e592cb4-cc67-4d20-9756-ad9bbed3d119')\"\n",
              "            title=\"Convert this dataframe to an interactive table.\"\n",
              "            style=\"display:none;\">\n",
              "\n",
              "  <svg xmlns=\"http://www.w3.org/2000/svg\" height=\"24px\" viewBox=\"0 -960 960 960\">\n",
              "    <path d=\"M120-120v-720h720v720H120Zm60-500h600v-160H180v160Zm220 220h160v-160H400v160Zm0 220h160v-160H400v160ZM180-400h160v-160H180v160Zm440 0h160v-160H620v160ZM180-180h160v-160H180v160Zm440 0h160v-160H620v160Z\"/>\n",
              "  </svg>\n",
              "    </button>\n",
              "\n",
              "  <style>\n",
              "    .colab-df-container {\n",
              "      display:flex;\n",
              "      gap: 12px;\n",
              "    }\n",
              "\n",
              "    .colab-df-convert {\n",
              "      background-color: #E8F0FE;\n",
              "      border: none;\n",
              "      border-radius: 50%;\n",
              "      cursor: pointer;\n",
              "      display: none;\n",
              "      fill: #1967D2;\n",
              "      height: 32px;\n",
              "      padding: 0 0 0 0;\n",
              "      width: 32px;\n",
              "    }\n",
              "\n",
              "    .colab-df-convert:hover {\n",
              "      background-color: #E2EBFA;\n",
              "      box-shadow: 0px 1px 2px rgba(60, 64, 67, 0.3), 0px 1px 3px 1px rgba(60, 64, 67, 0.15);\n",
              "      fill: #174EA6;\n",
              "    }\n",
              "\n",
              "    .colab-df-buttons div {\n",
              "      margin-bottom: 4px;\n",
              "    }\n",
              "\n",
              "    [theme=dark] .colab-df-convert {\n",
              "      background-color: #3B4455;\n",
              "      fill: #D2E3FC;\n",
              "    }\n",
              "\n",
              "    [theme=dark] .colab-df-convert:hover {\n",
              "      background-color: #434B5C;\n",
              "      box-shadow: 0px 1px 3px 1px rgba(0, 0, 0, 0.15);\n",
              "      filter: drop-shadow(0px 1px 2px rgba(0, 0, 0, 0.3));\n",
              "      fill: #FFFFFF;\n",
              "    }\n",
              "  </style>\n",
              "\n",
              "    <script>\n",
              "      const buttonEl =\n",
              "        document.querySelector('#df-8e592cb4-cc67-4d20-9756-ad9bbed3d119 button.colab-df-convert');\n",
              "      buttonEl.style.display =\n",
              "        google.colab.kernel.accessAllowed ? 'block' : 'none';\n",
              "\n",
              "      async function convertToInteractive(key) {\n",
              "        const element = document.querySelector('#df-8e592cb4-cc67-4d20-9756-ad9bbed3d119');\n",
              "        const dataTable =\n",
              "          await google.colab.kernel.invokeFunction('convertToInteractive',\n",
              "                                                    [key], {});\n",
              "        if (!dataTable) return;\n",
              "\n",
              "        const docLinkHtml = 'Like what you see? Visit the ' +\n",
              "          '<a target=\"_blank\" href=https://colab.research.google.com/notebooks/data_table.ipynb>data table notebook</a>'\n",
              "          + ' to learn more about interactive tables.';\n",
              "        element.innerHTML = '';\n",
              "        dataTable['output_type'] = 'display_data';\n",
              "        await google.colab.output.renderOutput(dataTable, element);\n",
              "        const docLink = document.createElement('div');\n",
              "        docLink.innerHTML = docLinkHtml;\n",
              "        element.appendChild(docLink);\n",
              "      }\n",
              "    </script>\n",
              "  </div>\n",
              "\n",
              "\n",
              "<div id=\"df-8a92269e-2e84-4751-872b-d3baf5117585\">\n",
              "  <button class=\"colab-df-quickchart\" onclick=\"quickchart('df-8a92269e-2e84-4751-872b-d3baf5117585')\"\n",
              "            title=\"Suggest charts.\"\n",
              "            style=\"display:none;\">\n",
              "\n",
              "<svg xmlns=\"http://www.w3.org/2000/svg\" height=\"24px\"viewBox=\"0 0 24 24\"\n",
              "     width=\"24px\">\n",
              "    <g>\n",
              "        <path d=\"M19 3H5c-1.1 0-2 .9-2 2v14c0 1.1.9 2 2 2h14c1.1 0 2-.9 2-2V5c0-1.1-.9-2-2-2zM9 17H7v-7h2v7zm4 0h-2V7h2v10zm4 0h-2v-4h2v4z\"/>\n",
              "    </g>\n",
              "</svg>\n",
              "  </button>\n",
              "\n",
              "<style>\n",
              "  .colab-df-quickchart {\n",
              "      --bg-color: #E8F0FE;\n",
              "      --fill-color: #1967D2;\n",
              "      --hover-bg-color: #E2EBFA;\n",
              "      --hover-fill-color: #174EA6;\n",
              "      --disabled-fill-color: #AAA;\n",
              "      --disabled-bg-color: #DDD;\n",
              "  }\n",
              "\n",
              "  [theme=dark] .colab-df-quickchart {\n",
              "      --bg-color: #3B4455;\n",
              "      --fill-color: #D2E3FC;\n",
              "      --hover-bg-color: #434B5C;\n",
              "      --hover-fill-color: #FFFFFF;\n",
              "      --disabled-bg-color: #3B4455;\n",
              "      --disabled-fill-color: #666;\n",
              "  }\n",
              "\n",
              "  .colab-df-quickchart {\n",
              "    background-color: var(--bg-color);\n",
              "    border: none;\n",
              "    border-radius: 50%;\n",
              "    cursor: pointer;\n",
              "    display: none;\n",
              "    fill: var(--fill-color);\n",
              "    height: 32px;\n",
              "    padding: 0;\n",
              "    width: 32px;\n",
              "  }\n",
              "\n",
              "  .colab-df-quickchart:hover {\n",
              "    background-color: var(--hover-bg-color);\n",
              "    box-shadow: 0 1px 2px rgba(60, 64, 67, 0.3), 0 1px 3px 1px rgba(60, 64, 67, 0.15);\n",
              "    fill: var(--button-hover-fill-color);\n",
              "  }\n",
              "\n",
              "  .colab-df-quickchart-complete:disabled,\n",
              "  .colab-df-quickchart-complete:disabled:hover {\n",
              "    background-color: var(--disabled-bg-color);\n",
              "    fill: var(--disabled-fill-color);\n",
              "    box-shadow: none;\n",
              "  }\n",
              "\n",
              "  .colab-df-spinner {\n",
              "    border: 2px solid var(--fill-color);\n",
              "    border-color: transparent;\n",
              "    border-bottom-color: var(--fill-color);\n",
              "    animation:\n",
              "      spin 1s steps(1) infinite;\n",
              "  }\n",
              "\n",
              "  @keyframes spin {\n",
              "    0% {\n",
              "      border-color: transparent;\n",
              "      border-bottom-color: var(--fill-color);\n",
              "      border-left-color: var(--fill-color);\n",
              "    }\n",
              "    20% {\n",
              "      border-color: transparent;\n",
              "      border-left-color: var(--fill-color);\n",
              "      border-top-color: var(--fill-color);\n",
              "    }\n",
              "    30% {\n",
              "      border-color: transparent;\n",
              "      border-left-color: var(--fill-color);\n",
              "      border-top-color: var(--fill-color);\n",
              "      border-right-color: var(--fill-color);\n",
              "    }\n",
              "    40% {\n",
              "      border-color: transparent;\n",
              "      border-right-color: var(--fill-color);\n",
              "      border-top-color: var(--fill-color);\n",
              "    }\n",
              "    60% {\n",
              "      border-color: transparent;\n",
              "      border-right-color: var(--fill-color);\n",
              "    }\n",
              "    80% {\n",
              "      border-color: transparent;\n",
              "      border-right-color: var(--fill-color);\n",
              "      border-bottom-color: var(--fill-color);\n",
              "    }\n",
              "    90% {\n",
              "      border-color: transparent;\n",
              "      border-bottom-color: var(--fill-color);\n",
              "    }\n",
              "  }\n",
              "</style>\n",
              "\n",
              "  <script>\n",
              "    async function quickchart(key) {\n",
              "      const quickchartButtonEl =\n",
              "        document.querySelector('#' + key + ' button');\n",
              "      quickchartButtonEl.disabled = true;  // To prevent multiple clicks.\n",
              "      quickchartButtonEl.classList.add('colab-df-spinner');\n",
              "      try {\n",
              "        const charts = await google.colab.kernel.invokeFunction(\n",
              "            'suggestCharts', [key], {});\n",
              "      } catch (error) {\n",
              "        console.error('Error during call to suggestCharts:', error);\n",
              "      }\n",
              "      quickchartButtonEl.classList.remove('colab-df-spinner');\n",
              "      quickchartButtonEl.classList.add('colab-df-quickchart-complete');\n",
              "    }\n",
              "    (() => {\n",
              "      let quickchartButtonEl =\n",
              "        document.querySelector('#df-8a92269e-2e84-4751-872b-d3baf5117585 button');\n",
              "      quickchartButtonEl.style.display =\n",
              "        google.colab.kernel.accessAllowed ? 'block' : 'none';\n",
              "    })();\n",
              "  </script>\n",
              "</div>\n",
              "    </div>\n",
              "  </div>\n"
            ]
          },
          "metadata": {},
          "execution_count": 13
        }
      ],
      "source": [
        "data_test = pd.read_csv('newspaper_data_test.tsv',sep='\\t')\n",
        "x_test = data_test['Daily'].values\n",
        "data_test.head()"
      ]
    },
    {
      "cell_type": "code",
      "execution_count": null,
      "metadata": {
        "colab": {
          "base_uri": "https://localhost:8080/"
        },
        "id": "u0e7jpEIsWvZ",
        "outputId": "a1ac2a5f-06c2-4726-a796-235426dc66e9"
      },
      "outputs": [
        {
          "output_type": "execute_result",
          "data": {
            "text/plain": [
              "array([ 399.297,  526.642,  362.315,  243.016,  547.688,  747.401,\n",
              "        202.617,  257.34 ,  209.993,  235.337,  457.687,  293.657,\n",
              "        188.955, 1184.007,  452.648,  420.362,  277.201,  795.607,\n",
              "       1231.58 ,  836.858,  227.097,  360.007,  523.01 ,  223.792,\n",
              "        342.585,  199.965,  135.057,  376.789,  275.84 ,  574.237,\n",
              "        394.103,  203.263,  322.517,  838.902])"
            ]
          },
          "metadata": {},
          "execution_count": 14
        }
      ],
      "source": [
        "x_test"
      ]
    },
    {
      "cell_type": "code",
      "execution_count": null,
      "metadata": {
        "id": "W41k93ehsWvZ"
      },
      "outputs": [],
      "source": [
        "preds_test = linear_reg.predict(x_test)"
      ]
    },
    {
      "cell_type": "code",
      "execution_count": null,
      "metadata": {
        "colab": {
          "base_uri": "https://localhost:8080/"
        },
        "id": "fGEk1aF8sWva",
        "outputId": "0eec199b-1b6b-4134-bcf4-2a373ac46e2b"
      },
      "outputs": [
        {
          "output_type": "stream",
          "name": "stdout",
          "text": [
            "Model Parameters\n",
            "Slope m = 1.3629997737529689\n",
            "Intercept b = 3.800661856920783\n"
          ]
        }
      ],
      "source": [
        "print('Model Parameters')\n",
        "print(f'Slope m = {linear_reg.w}')\n",
        "print(f'Intercept b = {linear_reg.b}')"
      ]
    },
    {
      "cell_type": "code",
      "execution_count": null,
      "metadata": {
        "colab": {
          "base_uri": "https://localhost:8080/"
        },
        "id": "BffJYS2NsWva",
        "outputId": "37b6f2e0-39a2-4010-ded8-8aaf38f6b958"
      },
      "outputs": [
        {
          "output_type": "stream",
          "name": "stdout",
          "text": [
            "\n",
            "Companies to Include from Sunday Edition Circulation:\n",
            "Baltimore Sun\n",
            "Boston Globe\n",
            "Boston Herald\n",
            "Charlotte Observer\n",
            "Chicago Sun Times\n",
            "Chicago Tribune\n",
            "Cincinnati Enquirer\n",
            "Denver Post\n",
            "Des Moines Register\n",
            "Hartford Courant\n",
            "Houston Chronicle\n",
            "Kansas City Star\n",
            "Los Angeles Daily News\n",
            "Los Angeles Times\n",
            "Miami Herald\n",
            "Minneapolis Star Tribune\n",
            "New Orleans Times-Picayune\n",
            "New York Daily News\n",
            "New York Times\n",
            "Newsday\n",
            "Omaha World Herald\n",
            "Orange County Register\n",
            "Philadelphia Inquirer\n",
            "Pittsburgh Press\n",
            "Portland Oregonian\n",
            "Providence Journal-Bulletin\n",
            "Rochester Democrat & Chronicle\n",
            "Rocky Mountain News\n",
            "Sacramento Bee\n",
            "San Francisco Chronicle\n",
            "St. Louis Post-Dispatch\n",
            "St. Paul Pioneer Press\n",
            "Tampa Tribune\n",
            "Washington Post\n"
          ]
        }
      ],
      "source": [
        "companies_to_include = []\n",
        "for i, row in data_test.iterrows():\n",
        "\n",
        "    if preds_test[i]>row['Daily']+.3*row['Daily']:\n",
        "        companies_to_include.append(row['Newspaper'])\n",
        "\n",
        "\n",
        "print(\"\\nCompanies to Include from Sunday Edition Circulation:\")\n",
        "for i in companies_to_include:\n",
        "    print(i)"
      ]
    },
    {
      "cell_type": "code",
      "execution_count": null,
      "metadata": {
        "colab": {
          "base_uri": "https://localhost:8080/",
          "height": 472
        },
        "id": "iLJzR-bksWva",
        "outputId": "4299c48d-3e79-41b2-b04f-5c27825af092"
      },
      "outputs": [
        {
          "output_type": "display_data",
          "data": {
            "text/plain": [
              "<Figure size 640x480 with 1 Axes>"
            ],
            "image/png": "[encoded data removed]"
          },
          "metadata": {}
        }
      ],
      "source": [
        "# Plot the data and the predicted regression curve\n",
        "plt.scatter(x, y, label='Data Points')\n",
        "plt.plot(x_test, preds_test, color='red', linewidth=2, label='Regression Curve')\n",
        "plt.xlabel('Daily Circulation')\n",
        "plt.ylabel('Sunday circulation')\n",
        "plt.title('Linear Regression Analysis')\n",
        "plt.legend()\n",
        "plt.show()\n"
      ]
    }
  ],
  "metadata": {
    "kernelspec": {
      "display_name": "Python 3",
      "language": "python",
      "name": "python3"
    },
    "language_info": {
      "codemirror_mode": {
        "name": "ipython",
        "version": 3
      },
      "file_extension": ".py",
      "mimetype": "text/x-python",
      "name": "python",
      "nbconvert_exporter": "python",
      "pygments_lexer": "ipython3",
      "version": "3.10.5"
    },
    "orig_nbformat": 4,
    "colab": {
      "provenance": []
    }
  },
  "nbformat": 4,
  "nbformat_minor": 0
}